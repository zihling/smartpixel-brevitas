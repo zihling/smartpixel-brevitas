{
 "cells": [
  {
   "cell_type": "code",
   "execution_count": 1,
   "id": "e1c7f479",
   "metadata": {},
   "outputs": [],
   "source": [
    "import os\n",
    "\n",
    "import numpy as np\n",
    "import torch\n",
    "import torch.nn as nn\n",
    "import torch.nn.functional as F\n",
    "from utils.model import (\n",
    "    QuantDenseModel,\n",
    "    IntQuantDenseModel,\n",
    "    IntQuantDenseModelLarge,\n",
    ")\n",
    "from utils.train import (\n",
    "    train_for_epoch,\n",
    "    test_model,\n",
    ")\n",
    "from utils.dataset import (\n",
    "    get_smartpixel_dataloaders,\n",
    "    get_global_smartpixel_dataloaders,   \n",
    ")\n",
    "\n",
    "DATASET_PATH = \"./data/ds8_only/dec6_ds8_quant\"  # Change me\n",
    "EXPORT_PATH = \"./model_outputs\""
   ]
  },
  {
   "cell_type": "code",
   "execution_count": 2,
   "id": "77463b51",
   "metadata": {},
   "outputs": [],
   "source": [
    "# Training parameters\n",
    "learning_rate = 0.01\n",
    "momentum = 0.5\n",
    "\n",
    "# ++++ Quantization method (comment/uncomment) ++++\n",
    "# Int quant\n",
    "# model = IntQuantDenseModel(in_features=13, dense_width=16, logit_total_bits=3, activation_total_bits=6, num_classes=12) # Small model\n",
    "\n",
    "# model = IntQuantDenseModel(in_features=13, dense_width=58, logit_total_bits=4, activation_total_bits=8, num_classes=12) # Medium model\n",
    "\n",
    "# model = IntQuantDenseModel(in_features=13, dense_width=512, logit_total_bits=4, activation_total_bits=8, num_classes=12) # Large model2\n",
    "\n",
    "model = IntQuantDenseModelLarge(in_features=13, dense_width=32, logit_total_bits=8, activation_total_bits=10, num_classes=12) # Large model\n",
    "\n",
    "# Float quant\n",
    "# model = FloatQuantLinearModel(\n",
    "#     input_exponent_bit_width=2,\n",
    "#     input_mantissa_bit_width=1,\n",
    "#     weight_exponent_bit_width=4,\n",
    "#     weight_mantissa_bit_width=3,\n",
    "# )\n",
    "\n",
    "# ---- Quantization method ----\n",
    "\n",
    "device = (\n",
    "    \"xpu\"\n",
    "    if torch.xpu.is_available()  # For the only person who has an Intel GPU\n",
    "    else \"cuda\"\n",
    "    if torch.cuda.is_available()\n",
    "    else \"cpu\"\n",
    ")\n",
    "\n",
    "model = model.to(device)\n",
    "criterion = nn.CrossEntropyLoss()\n",
    "optimizer = torch.optim.SGD(model.parameters(), lr=learning_rate, momentum=momentum)"
   ]
  },
  {
   "cell_type": "code",
   "execution_count": 3,
   "id": "b6629564",
   "metadata": {},
   "outputs": [
    {
     "name": "stdout",
     "output_type": "stream",
     "text": [
      "Merged 12 local datasets into global loaders.\n",
      "  Training samples: 652160\n",
      "  Test samples: 163040\n"
     ]
    }
   ],
   "source": [
    "train_loader, test_loader = get_global_smartpixel_dataloaders(\n",
    "    DATASET_PATH, pin_memory=True, pin_memory_device=device\n",
    ")"
   ]
  },
  {
   "cell_type": "code",
   "execution_count": 4,
   "id": "7a7102a2",
   "metadata": {},
   "outputs": [
    {
     "name": "stdout",
     "output_type": "stream",
     "text": [
      "Epoch: 0\n"
     ]
    },
    {
     "data": {
      "application/vnd.jupyter.widget-view+json": {
       "model_id": "9cef0cf90f3845b996345fab7dd41113",
       "version_major": 2,
       "version_minor": 0
      },
      "text/plain": [
       "  0%|          | 0/10190 [00:00<?, ?it/s]"
      ]
     },
     "metadata": {},
     "output_type": "display_data"
    },
    {
     "name": "stderr",
     "output_type": "stream",
     "text": [
      "/home/z.ling.865/smartpixel-brevitas/venv/lib/python3.10/site-packages/torch/_tensor.py:1645: UserWarning: Named tensors and all their associated APIs are an experimental feature and subject to change. Please do not use them for anything important until they are released as stable. (Triggered internally at /pytorch/c10/core/TensorImpl.h:1939.)\n",
      "  return super().rename(names)\n"
     ]
    },
    {
     "data": {
      "application/vnd.jupyter.widget-view+json": {
       "model_id": "e35a8b5a8d854ba8ac1d79825d7e6a92",
       "version_major": 2,
       "version_minor": 0
      },
      "text/plain": [
       "  0%|          | 0/160 [00:00<?, ?it/s]"
      ]
     },
     "metadata": {},
     "output_type": "display_data"
    },
    {
     "name": "stdout",
     "output_type": "stream",
     "text": [
      "Epoch: 1\n"
     ]
    },
    {
     "data": {
      "application/vnd.jupyter.widget-view+json": {
       "model_id": "40e4cc2ee3a648acaa453feb96dddecf",
       "version_major": 2,
       "version_minor": 0
      },
      "text/plain": [
       "  0%|          | 0/10190 [00:00<?, ?it/s]"
      ]
     },
     "metadata": {},
     "output_type": "display_data"
    },
    {
     "data": {
      "application/vnd.jupyter.widget-view+json": {
       "model_id": "aa693c4cf1f74799b741da17f0e5bc4c",
       "version_major": 2,
       "version_minor": 0
      },
      "text/plain": [
       "  0%|          | 0/160 [00:00<?, ?it/s]"
      ]
     },
     "metadata": {},
     "output_type": "display_data"
    },
    {
     "name": "stdout",
     "output_type": "stream",
     "text": [
      "Epoch: 2\n"
     ]
    },
    {
     "data": {
      "application/vnd.jupyter.widget-view+json": {
       "model_id": "0fcad6c529bf43c285af846ebd1d0e89",
       "version_major": 2,
       "version_minor": 0
      },
      "text/plain": [
       "  0%|          | 0/10190 [00:00<?, ?it/s]"
      ]
     },
     "metadata": {},
     "output_type": "display_data"
    },
    {
     "data": {
      "application/vnd.jupyter.widget-view+json": {
       "model_id": "631f5ceb1e404cba9c9256ef879cdf7b",
       "version_major": 2,
       "version_minor": 0
      },
      "text/plain": [
       "  0%|          | 0/160 [00:00<?, ?it/s]"
      ]
     },
     "metadata": {},
     "output_type": "display_data"
    },
    {
     "name": "stdout",
     "output_type": "stream",
     "text": [
      "Epoch: 3\n"
     ]
    },
    {
     "data": {
      "application/vnd.jupyter.widget-view+json": {
       "model_id": "334e085d0a234060ad49db1509f0406a",
       "version_major": 2,
       "version_minor": 0
      },
      "text/plain": [
       "  0%|          | 0/10190 [00:00<?, ?it/s]"
      ]
     },
     "metadata": {},
     "output_type": "display_data"
    },
    {
     "data": {
      "application/vnd.jupyter.widget-view+json": {
       "model_id": "027ae367299a4d669abb4f2257108c90",
       "version_major": 2,
       "version_minor": 0
      },
      "text/plain": [
       "  0%|          | 0/160 [00:00<?, ?it/s]"
      ]
     },
     "metadata": {},
     "output_type": "display_data"
    },
    {
     "name": "stdout",
     "output_type": "stream",
     "text": [
      "Epoch: 4\n"
     ]
    },
    {
     "data": {
      "application/vnd.jupyter.widget-view+json": {
       "model_id": "2e71019d8ed14aa8b4b564a12ea33404",
       "version_major": 2,
       "version_minor": 0
      },
      "text/plain": [
       "  0%|          | 0/10190 [00:00<?, ?it/s]"
      ]
     },
     "metadata": {},
     "output_type": "display_data"
    },
    {
     "data": {
      "application/vnd.jupyter.widget-view+json": {
       "model_id": "a652c999777146a793d75033936c84da",
       "version_major": 2,
       "version_minor": 0
      },
      "text/plain": [
       "  0%|          | 0/160 [00:00<?, ?it/s]"
      ]
     },
     "metadata": {},
     "output_type": "display_data"
    },
    {
     "name": "stdout",
     "output_type": "stream",
     "text": [
      "Epoch: 5\n"
     ]
    },
    {
     "data": {
      "application/vnd.jupyter.widget-view+json": {
       "model_id": "3074210a46e846e6a593eca255bf6866",
       "version_major": 2,
       "version_minor": 0
      },
      "text/plain": [
       "  0%|          | 0/10190 [00:00<?, ?it/s]"
      ]
     },
     "metadata": {},
     "output_type": "display_data"
    },
    {
     "data": {
      "application/vnd.jupyter.widget-view+json": {
       "model_id": "3b98be0d417c42c9b36beb1c5d4ec790",
       "version_major": 2,
       "version_minor": 0
      },
      "text/plain": [
       "  0%|          | 0/160 [00:00<?, ?it/s]"
      ]
     },
     "metadata": {},
     "output_type": "display_data"
    },
    {
     "name": "stdout",
     "output_type": "stream",
     "text": [
      "Epoch: 6\n"
     ]
    },
    {
     "data": {
      "application/vnd.jupyter.widget-view+json": {
       "model_id": "c5edfa75c03e46aab73f15f4e1fb5881",
       "version_major": 2,
       "version_minor": 0
      },
      "text/plain": [
       "  0%|          | 0/10190 [00:00<?, ?it/s]"
      ]
     },
     "metadata": {},
     "output_type": "display_data"
    },
    {
     "data": {
      "application/vnd.jupyter.widget-view+json": {
       "model_id": "9c2397d73507430f848c096fafe1bd3e",
       "version_major": 2,
       "version_minor": 0
      },
      "text/plain": [
       "  0%|          | 0/160 [00:00<?, ?it/s]"
      ]
     },
     "metadata": {},
     "output_type": "display_data"
    },
    {
     "name": "stdout",
     "output_type": "stream",
     "text": [
      "Epoch: 7\n"
     ]
    },
    {
     "data": {
      "application/vnd.jupyter.widget-view+json": {
       "model_id": "60c82cbc27c0475398963f60758f071d",
       "version_major": 2,
       "version_minor": 0
      },
      "text/plain": [
       "  0%|          | 0/10190 [00:00<?, ?it/s]"
      ]
     },
     "metadata": {},
     "output_type": "display_data"
    },
    {
     "data": {
      "application/vnd.jupyter.widget-view+json": {
       "model_id": "3114e73c04b14ddfa221cf6f0c65242c",
       "version_major": 2,
       "version_minor": 0
      },
      "text/plain": [
       "  0%|          | 0/160 [00:00<?, ?it/s]"
      ]
     },
     "metadata": {},
     "output_type": "display_data"
    },
    {
     "name": "stdout",
     "output_type": "stream",
     "text": [
      "Epoch: 8\n"
     ]
    },
    {
     "data": {
      "application/vnd.jupyter.widget-view+json": {
       "model_id": "8eea70e706194299a5994c1d5d8c3059",
       "version_major": 2,
       "version_minor": 0
      },
      "text/plain": [
       "  0%|          | 0/10190 [00:00<?, ?it/s]"
      ]
     },
     "metadata": {},
     "output_type": "display_data"
    },
    {
     "data": {
      "application/vnd.jupyter.widget-view+json": {
       "model_id": "0e4ea55fbebe4d029177db34f0d492a6",
       "version_major": 2,
       "version_minor": 0
      },
      "text/plain": [
       "  0%|          | 0/160 [00:00<?, ?it/s]"
      ]
     },
     "metadata": {},
     "output_type": "display_data"
    },
    {
     "name": "stdout",
     "output_type": "stream",
     "text": [
      "Epoch: 9\n"
     ]
    },
    {
     "data": {
      "application/vnd.jupyter.widget-view+json": {
       "model_id": "2faafc85d5e74de5bfad914df0e20265",
       "version_major": 2,
       "version_minor": 0
      },
      "text/plain": [
       "  0%|          | 0/10190 [00:00<?, ?it/s]"
      ]
     },
     "metadata": {},
     "output_type": "display_data"
    },
    {
     "data": {
      "application/vnd.jupyter.widget-view+json": {
       "model_id": "2dd659c721294534a8d0b80061f1fbe9",
       "version_major": 2,
       "version_minor": 0
      },
      "text/plain": [
       "  0%|          | 0/160 [00:00<?, ?it/s]"
      ]
     },
     "metadata": {},
     "output_type": "display_data"
    }
   ],
   "source": [
    "for epoch in range(10):\n",
    "    print(f\"Epoch: {epoch}\")\n",
    "    train_for_epoch(model, device, train_loader, criterion, optimizer)\n",
    "    test_model(model, device, test_loader, F.cross_entropy)"
   ]
  },
  {
   "cell_type": "code",
   "execution_count": 5,
   "id": "d671b9b7",
   "metadata": {},
   "outputs": [
    {
     "data": {
      "application/vnd.jupyter.widget-view+json": {
       "model_id": "15aed3eda0b142cc9d3d112af47a0b6e",
       "version_major": 2,
       "version_minor": 0
      },
      "text/plain": [
       "  0%|          | 0/160 [00:00<?, ?it/s]"
      ]
     },
     "metadata": {},
     "output_type": "display_data"
    }
   ],
   "source": [
    "# Get all correctly classified images/inputs from test dataset\n",
    "correct_inputs, correct_targets = test_model(\n",
    "    model, device, test_loader, F.cross_entropy, return_correct=True\n",
    ")\n",
    "\n",
    "# Get quantized weights and inputs\n",
    "model_weights, model_scale = model.quant_weight()\n",
    "correct_inputs, input_scale = model.quant_input(correct_inputs)"
   ]
  },
  {
   "cell_type": "code",
   "execution_count": 12,
   "id": "8c37e082",
   "metadata": {},
   "outputs": [
    {
     "name": "stdout",
     "output_type": "stream",
     "text": [
      "Exporting multi-layer quantized model weights...\n",
      "Exported model 'large_int_quant' to ./model_outputs/large_int_quant/large_int_quant/large_int_quant/large_int_quant/large_int_quant/large_int_quant\n"
     ]
    }
   ],
   "source": [
    "MODEL_NAME = \"large_int_quant\"  # Change me for different models\n",
    "EXPORT_PATH = os.path.join(EXPORT_PATH, MODEL_NAME)\n",
    "\n",
    "# Create output directory if it doesn't exist\n",
    "if not os.path.exists(EXPORT_PATH):\n",
    "    os.makedirs(EXPORT_PATH)\n",
    "\n",
    "# Export NumPy for compatibility with Rust\n",
    "if isinstance(model_weights, dict):\n",
    "    print(\"Exporting multi-layer quantized model weights...\")\n",
    "    for layer_name, weights in model_weights.items():\n",
    "        np.save(EXPORT_PATH + f\"{layer_name}_weights.npy\", weights.cpu().numpy())\n",
    "\n",
    "    for layer_name, scale in model_scale.items():\n",
    "        np.save(EXPORT_PATH + f\"{layer_name}_scale.npy\", scale.cpu().numpy()) \n",
    "else:\n",
    "    print(\"Exporting single-layer model weights...\")\n",
    "    np.save(EXPORT_PATH + \"/model_weights.npy\", model_weights.cpu().numpy())\n",
    "    np.save(EXPORT_PATH + \"/model_scale.npy\", model_scale.cpu().numpy())\n",
    "np.save(EXPORT_PATH + \"/correct_inputs.npy\", correct_inputs.cpu().numpy())\n",
    "np.save(EXPORT_PATH + \"/input_scale.npy\", input_scale.cpu().numpy())\n",
    "np.save(EXPORT_PATH + \"/correct_targets.npy\", correct_targets.cpu().numpy())\n",
    "\n",
    "print(f\"Exported model '{MODEL_NAME}' to {EXPORT_PATH}\")"
   ]
  },
  {
   "cell_type": "code",
   "execution_count": 13,
   "id": "7248b18c",
   "metadata": {},
   "outputs": [],
   "source": [
    "torch.save(model.state_dict(), EXPORT_PATH + \"/smartpixel_model.pt\")"
   ]
  }
 ],
 "metadata": {
  "kernelspec": {
   "display_name": "venv",
   "language": "python",
   "name": "python3"
  },
  "language_info": {
   "codemirror_mode": {
    "name": "ipython",
    "version": 3
   },
   "file_extension": ".py",
   "mimetype": "text/x-python",
   "name": "python",
   "nbconvert_exporter": "python",
   "pygments_lexer": "ipython3",
   "version": "3.10.12"
  }
 },
 "nbformat": 4,
 "nbformat_minor": 5
}
