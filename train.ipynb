{
 "cells": [
  {
   "cell_type": "code",
   "execution_count": 1,
   "id": "e1c7f479",
   "metadata": {},
   "outputs": [],
   "source": [
    "import os\n",
    "\n",
    "import numpy as np\n",
    "import torch\n",
    "import torch.nn as nn\n",
    "import torch.nn.functional as F\n",
    "from utils.model import (\n",
    "    QuantDenseModel,\n",
    "    IntQuantDenseModel,\n",
    "    IntQuantDenseModelLarge,\n",
    "    FloatQuantDenseModel,\n",
    ")\n",
    "from utils.train import (\n",
    "    train_for_epoch,\n",
    "    test_model,\n",
    ")\n",
    "from utils.dataset import (\n",
    "    get_smartpixel_dataloaders,\n",
    "    get_global_smartpixel_dataloaders,   \n",
    ")\n",
    "\n",
    "DATASET_PATH = \"./data/ds8_only/dec6_ds8_quant\"  # Change me\n",
    "EXPORT_PATH = \"./model_outputs\""
   ]
  },
  {
   "cell_type": "code",
   "execution_count": 2,
   "id": "77463b51",
   "metadata": {},
   "outputs": [],
   "source": [
    "# Training parameters\n",
    "learning_rate = 0.01\n",
    "# momentum = 0.5\n",
    "\n",
    "# ++++ Quantization method (comment/uncomment) ++++\n",
    "# Int quant\n",
    "# model = IntQuantDenseModel(in_features=13, dense_width=16, logit_total_bits=3, activation_total_bits=6, num_classes=12) # Small model\n",
    "\n",
    "# model = IntQuantDenseModel(in_features=13, dense_width=58, logit_total_bits=4, activation_total_bits=8, num_classes=12) # Medium model\n",
    "\n",
    "# model = IntQuantDenseModel(in_features=13, dense_width=512, logit_total_bits=4, activation_total_bits=8, num_classes=12) # Large model2\n",
    "\n",
    "# model = IntQuantDenseModelLarge(in_features=13, dense_width=32, logit_total_bits=8, activation_total_bits=10, num_classes=12) # Large model\n",
    "\n",
    "\n",
    "# Minifloat quant\n",
    "model = FloatQuantDenseModel(\n",
    "    in_features=13,\n",
    "    dense_width=16,\n",
    "    num_classes=12,\n",
    "    input_exponent_bit_width=3,\n",
    "    input_mantissa_bit_width=2,\n",
    "    weight_exponent_bit_width=1,\n",
    "    weight_mantissa_bit_width=2,\n",
    ") # Small model: weight_exponent_bit_width cannot be 0, so I changed it to 1 (a little different from original edge-nns)\n",
    "\n",
    "# ---- Quantization method ----\n",
    "\n",
    "device = (\n",
    "    \"xpu\"\n",
    "    if torch.xpu.is_available()  # For the only person who has an Intel GPU\n",
    "    else \"cuda\"\n",
    "    if torch.cuda.is_available()\n",
    "    else \"cpu\"\n",
    ")\n",
    "\n",
    "model = model.to(device)\n",
    "criterion = nn.CrossEntropyLoss()\n",
    "optimizer = torch.optim.Adam(model.parameters(), lr=learning_rate)"
   ]
  },
  {
   "cell_type": "code",
   "execution_count": null,
   "id": "b6629564",
   "metadata": {},
   "outputs": [
    {
     "name": "stdout",
     "output_type": "stream",
     "text": [
      "Merged 12 local datasets into global loaders.\n",
      "  Training samples: 652160\n",
      "  Test samples: 163040\n"
     ]
    }
   ],
   "source": [
    "# Train on global dataset\n",
    "train_loader, test_loader = get_global_smartpixel_dataloaders(\n",
    "    DATASET_PATH, pin_memory=True, pin_memory_device=device\n",
    ")"
   ]
  },
  {
   "cell_type": "code",
   "execution_count": 3,
   "id": "9e5b96d2",
   "metadata": {},
   "outputs": [
    {
     "name": "stdout",
     "output_type": "stream",
     "text": [
      "Local 0:\n",
      "  Training set shape : 45415 samples\n",
      "  Test set shape     : 11113 samples\n"
     ]
    }
   ],
   "source": [
    "# Train on local dataset, change local_id for different clients (0~11) \n",
    "train_loader, test_loader = get_smartpixel_dataloaders(\n",
    "    DATASET_PATH, pin_memory=True, pin_memory_device=device, local_id=0\n",
    ")"
   ]
  },
  {
   "cell_type": "code",
   "execution_count": 4,
   "id": "7a7102a2",
   "metadata": {},
   "outputs": [
    {
     "name": "stdout",
     "output_type": "stream",
     "text": [
      "Epoch: 0\n"
     ]
    },
    {
     "data": {
      "application/vnd.jupyter.widget-view+json": {
       "model_id": "827194c1031d406899415f0ae86be72a",
       "version_major": 2,
       "version_minor": 0
      },
      "text/plain": [
       "  0%|          | 0/710 [00:00<?, ?it/s]"
      ]
     },
     "metadata": {},
     "output_type": "display_data"
    },
    {
     "name": "stderr",
     "output_type": "stream",
     "text": [
      "/home/z.ling.865/smartpixel-brevitas/venv/lib/python3.10/site-packages/torch/_tensor.py:1645: UserWarning: Named tensors and all their associated APIs are an experimental feature and subject to change. Please do not use them for anything important until they are released as stable. (Triggered internally at /pytorch/c10/core/TensorImpl.h:1939.)\n",
      "  return super().rename(names)\n"
     ]
    },
    {
     "data": {
      "application/vnd.jupyter.widget-view+json": {
       "model_id": "68152471e0ea4d159e68b740af32b477",
       "version_major": 2,
       "version_minor": 0
      },
      "text/plain": [
       "  0%|          | 0/11 [00:00<?, ?it/s]"
      ]
     },
     "metadata": {},
     "output_type": "display_data"
    },
    {
     "name": "stdout",
     "output_type": "stream",
     "text": [
      "Epoch: 1\n"
     ]
    },
    {
     "data": {
      "application/vnd.jupyter.widget-view+json": {
       "model_id": "2dd7241cc16f418ba9397733b20fceff",
       "version_major": 2,
       "version_minor": 0
      },
      "text/plain": [
       "  0%|          | 0/710 [00:00<?, ?it/s]"
      ]
     },
     "metadata": {},
     "output_type": "display_data"
    },
    {
     "data": {
      "application/vnd.jupyter.widget-view+json": {
       "model_id": "339ff16160324cf5835ba0f45cf52cfa",
       "version_major": 2,
       "version_minor": 0
      },
      "text/plain": [
       "  0%|          | 0/11 [00:00<?, ?it/s]"
      ]
     },
     "metadata": {},
     "output_type": "display_data"
    },
    {
     "name": "stdout",
     "output_type": "stream",
     "text": [
      "Epoch: 2\n"
     ]
    },
    {
     "data": {
      "application/vnd.jupyter.widget-view+json": {
       "model_id": "7da4a17e36a249bc8f9b4e3bb78ec5f6",
       "version_major": 2,
       "version_minor": 0
      },
      "text/plain": [
       "  0%|          | 0/710 [00:00<?, ?it/s]"
      ]
     },
     "metadata": {},
     "output_type": "display_data"
    },
    {
     "data": {
      "application/vnd.jupyter.widget-view+json": {
       "model_id": "ef3825182884425abb51d7ddb9762952",
       "version_major": 2,
       "version_minor": 0
      },
      "text/plain": [
       "  0%|          | 0/11 [00:00<?, ?it/s]"
      ]
     },
     "metadata": {},
     "output_type": "display_data"
    },
    {
     "name": "stdout",
     "output_type": "stream",
     "text": [
      "Epoch: 3\n"
     ]
    },
    {
     "data": {
      "application/vnd.jupyter.widget-view+json": {
       "model_id": "33d98b183d7d4f9dad51acf75fb57947",
       "version_major": 2,
       "version_minor": 0
      },
      "text/plain": [
       "  0%|          | 0/710 [00:00<?, ?it/s]"
      ]
     },
     "metadata": {},
     "output_type": "display_data"
    },
    {
     "data": {
      "application/vnd.jupyter.widget-view+json": {
       "model_id": "04ca347d82fc4822a70d6c7f985e894c",
       "version_major": 2,
       "version_minor": 0
      },
      "text/plain": [
       "  0%|          | 0/11 [00:00<?, ?it/s]"
      ]
     },
     "metadata": {},
     "output_type": "display_data"
    },
    {
     "name": "stdout",
     "output_type": "stream",
     "text": [
      "Epoch: 4\n"
     ]
    },
    {
     "data": {
      "application/vnd.jupyter.widget-view+json": {
       "model_id": "8d2132d975c0487c93cff3ce54d40a01",
       "version_major": 2,
       "version_minor": 0
      },
      "text/plain": [
       "  0%|          | 0/710 [00:00<?, ?it/s]"
      ]
     },
     "metadata": {},
     "output_type": "display_data"
    },
    {
     "data": {
      "application/vnd.jupyter.widget-view+json": {
       "model_id": "8e03eb95063a4886a635eece1b11c5e7",
       "version_major": 2,
       "version_minor": 0
      },
      "text/plain": [
       "  0%|          | 0/11 [00:00<?, ?it/s]"
      ]
     },
     "metadata": {},
     "output_type": "display_data"
    },
    {
     "name": "stdout",
     "output_type": "stream",
     "text": [
      "Epoch: 5\n"
     ]
    },
    {
     "data": {
      "application/vnd.jupyter.widget-view+json": {
       "model_id": "16b25a3294484e089e4ea2146918df1a",
       "version_major": 2,
       "version_minor": 0
      },
      "text/plain": [
       "  0%|          | 0/710 [00:00<?, ?it/s]"
      ]
     },
     "metadata": {},
     "output_type": "display_data"
    },
    {
     "data": {
      "application/vnd.jupyter.widget-view+json": {
       "model_id": "4b0b4abb7bd94600acedaa79243bd186",
       "version_major": 2,
       "version_minor": 0
      },
      "text/plain": [
       "  0%|          | 0/11 [00:00<?, ?it/s]"
      ]
     },
     "metadata": {},
     "output_type": "display_data"
    },
    {
     "name": "stdout",
     "output_type": "stream",
     "text": [
      "Epoch: 6\n"
     ]
    },
    {
     "data": {
      "application/vnd.jupyter.widget-view+json": {
       "model_id": "12b3b19a634b4d429600472c67205377",
       "version_major": 2,
       "version_minor": 0
      },
      "text/plain": [
       "  0%|          | 0/710 [00:00<?, ?it/s]"
      ]
     },
     "metadata": {},
     "output_type": "display_data"
    },
    {
     "data": {
      "application/vnd.jupyter.widget-view+json": {
       "model_id": "83458a47b8a64ca78d6ac363a3e92ca0",
       "version_major": 2,
       "version_minor": 0
      },
      "text/plain": [
       "  0%|          | 0/11 [00:00<?, ?it/s]"
      ]
     },
     "metadata": {},
     "output_type": "display_data"
    },
    {
     "name": "stdout",
     "output_type": "stream",
     "text": [
      "Epoch: 7\n"
     ]
    },
    {
     "data": {
      "application/vnd.jupyter.widget-view+json": {
       "model_id": "72dcdfe4866047988b133af05a174704",
       "version_major": 2,
       "version_minor": 0
      },
      "text/plain": [
       "  0%|          | 0/710 [00:00<?, ?it/s]"
      ]
     },
     "metadata": {},
     "output_type": "display_data"
    },
    {
     "data": {
      "application/vnd.jupyter.widget-view+json": {
       "model_id": "87652ca4088f4a24b3cbef50588b991b",
       "version_major": 2,
       "version_minor": 0
      },
      "text/plain": [
       "  0%|          | 0/11 [00:00<?, ?it/s]"
      ]
     },
     "metadata": {},
     "output_type": "display_data"
    },
    {
     "name": "stdout",
     "output_type": "stream",
     "text": [
      "Epoch: 8\n"
     ]
    },
    {
     "data": {
      "application/vnd.jupyter.widget-view+json": {
       "model_id": "2527189e4ade45e0883c3f0dcb74d405",
       "version_major": 2,
       "version_minor": 0
      },
      "text/plain": [
       "  0%|          | 0/710 [00:00<?, ?it/s]"
      ]
     },
     "metadata": {},
     "output_type": "display_data"
    },
    {
     "data": {
      "application/vnd.jupyter.widget-view+json": {
       "model_id": "b1833e0726054770bc12ac717887b469",
       "version_major": 2,
       "version_minor": 0
      },
      "text/plain": [
       "  0%|          | 0/11 [00:00<?, ?it/s]"
      ]
     },
     "metadata": {},
     "output_type": "display_data"
    },
    {
     "name": "stdout",
     "output_type": "stream",
     "text": [
      "Epoch: 9\n"
     ]
    },
    {
     "data": {
      "application/vnd.jupyter.widget-view+json": {
       "model_id": "1a09d9fca4ea43ebaf157a80f0e7138b",
       "version_major": 2,
       "version_minor": 0
      },
      "text/plain": [
       "  0%|          | 0/710 [00:00<?, ?it/s]"
      ]
     },
     "metadata": {},
     "output_type": "display_data"
    },
    {
     "data": {
      "application/vnd.jupyter.widget-view+json": {
       "model_id": "5b9c1dc695a94b5eb1b02f598ea32278",
       "version_major": 2,
       "version_minor": 0
      },
      "text/plain": [
       "  0%|          | 0/11 [00:00<?, ?it/s]"
      ]
     },
     "metadata": {},
     "output_type": "display_data"
    }
   ],
   "source": [
    "for epoch in range(10):\n",
    "    print(f\"Epoch: {epoch}\")\n",
    "    train_for_epoch(model, device, train_loader, criterion, optimizer)\n",
    "    test_model(model, device, test_loader, F.cross_entropy)"
   ]
  },
  {
   "cell_type": "code",
   "execution_count": 5,
   "id": "d671b9b7",
   "metadata": {},
   "outputs": [
    {
     "data": {
      "application/vnd.jupyter.widget-view+json": {
       "model_id": "d50f727694c64b9790967ee5c5a82dd1",
       "version_major": 2,
       "version_minor": 0
      },
      "text/plain": [
       "  0%|          | 0/11 [00:00<?, ?it/s]"
      ]
     },
     "metadata": {},
     "output_type": "display_data"
    }
   ],
   "source": [
    "# Get all correctly classified images/inputs from test dataset\n",
    "correct_inputs, correct_targets = test_model(\n",
    "    model, device, test_loader, F.cross_entropy, return_correct=True\n",
    ")\n",
    "\n",
    "# Get quantized weights and inputs\n",
    "model_weights, model_scale = model.quant_weight()\n",
    "correct_inputs, input_scale = model.quant_input(correct_inputs)"
   ]
  },
  {
   "cell_type": "code",
   "execution_count": 6,
   "id": "8c37e082",
   "metadata": {},
   "outputs": [
    {
     "name": "stdout",
     "output_type": "stream",
     "text": [
      "Exporting single-layer model weights...\n",
      "Exported model 'small_float_quant' to ./model_outputs/small_float_quant\n"
     ]
    }
   ],
   "source": [
    "MODEL_NAME = \"small_float_quant\"  # Change me for different models\n",
    "EXPORT_PATH = os.path.join(EXPORT_PATH, MODEL_NAME)\n",
    "\n",
    "# Create output directory if it doesn't exist\n",
    "if not os.path.exists(EXPORT_PATH):\n",
    "    os.makedirs(EXPORT_PATH)\n",
    "\n",
    "# Export NumPy for compatibility with Rust\n",
    "if isinstance(model_weights, dict):\n",
    "    print(\"Exporting multi-layer quantized model weights...\")\n",
    "    for layer_name, weights in model_weights.items():\n",
    "        np.save(EXPORT_PATH + f\"{layer_name}_weights.npy\", weights.cpu().numpy())\n",
    "\n",
    "    for layer_name, scale in model_scale.items():\n",
    "        np.save(EXPORT_PATH + f\"{layer_name}_scale.npy\", scale.cpu().numpy()) \n",
    "else:\n",
    "    print(\"Exporting single-layer model weights...\")\n",
    "    np.save(EXPORT_PATH + \"/model_weights.npy\", model_weights.cpu().numpy())\n",
    "    np.save(EXPORT_PATH + \"/model_scale.npy\", model_scale.cpu().numpy())\n",
    "np.save(EXPORT_PATH + \"/correct_inputs.npy\", correct_inputs.cpu().numpy())\n",
    "np.save(EXPORT_PATH + \"/input_scale.npy\", input_scale.cpu().numpy())\n",
    "np.save(EXPORT_PATH + \"/correct_targets.npy\", correct_targets.cpu().numpy())\n",
    "\n",
    "print(f\"Exported model '{MODEL_NAME}' to {EXPORT_PATH}\")"
   ]
  },
  {
   "cell_type": "code",
   "execution_count": 7,
   "id": "7248b18c",
   "metadata": {},
   "outputs": [],
   "source": [
    "torch.save(model.state_dict(), EXPORT_PATH + \"/smartpixel_model.pt\")"
   ]
  }
 ],
 "metadata": {
  "kernelspec": {
   "display_name": "venv",
   "language": "python",
   "name": "python3"
  },
  "language_info": {
   "codemirror_mode": {
    "name": "ipython",
    "version": 3
   },
   "file_extension": ".py",
   "mimetype": "text/x-python",
   "name": "python",
   "nbconvert_exporter": "python",
   "pygments_lexer": "ipython3",
   "version": "3.10.12"
  }
 },
 "nbformat": 4,
 "nbformat_minor": 5
}
