{
 "cells": [
  {
   "cell_type": "code",
   "execution_count": 1,
   "id": "e1c7f479",
   "metadata": {},
   "outputs": [],
   "source": [
    "import os\n",
    "\n",
    "import numpy as np\n",
    "import torch\n",
    "import torch.nn as nn\n",
    "import torch.nn.functional as F\n",
    "from utils.model import (\n",
    "    QuantDenseModel,\n",
    "    IntQuantDenseModel,\n",
    "    IntQuantDenseModelLarge,\n",
    ")\n",
    "from utils.train import (\n",
    "    train_for_epoch,\n",
    "    test_model,\n",
    ")\n",
    "from utils.dataset import (\n",
    "    get_smartpixel_dataloaders,\n",
    "    get_global_smartpixel_dataloaders,   \n",
    ")\n",
    "\n",
    "DATASET_PATH = \"./data/ds8_only/dec6_ds8_quant\"  # Change me\n",
    "EXPORT_PATH = \"./model_outputs\""
   ]
  },
  {
   "cell_type": "code",
   "execution_count": 2,
   "id": "77463b51",
   "metadata": {},
   "outputs": [],
   "source": [
    "# Training parameters\n",
    "learning_rate = 0.01\n",
    "momentum = 0.5\n",
    "\n",
    "# ++++ Quantization method (comment/uncomment) ++++\n",
    "# Int quant\n",
    "model = IntQuantDenseModel(in_features=13, dense_width=16, logit_total_bits=3, activation_total_bits=6, num_classes=12) # Small model\n",
    "\n",
    "# model = IntQuantDenseModel(in_features=13, dense_width=58, logit_total_bits=4, activation_total_bits=8, num_classes=12) # Medium model\n",
    "\n",
    "# model = IntQuantDenseModel(in_features=13, dense_width=512, logit_total_bits=4, activation_total_bits=8, num_classes=12) # Large model2\n",
    "\n",
    "# model = IntQuantDenseModelLarge(in_features=13, dense_width=32, logit_total_bits=8, activation_total_bits=10, num_classes=12) # Large model\n",
    "\n",
    "# Float quant\n",
    "# model = FloatQuantLinearModel(\n",
    "#     input_exponent_bit_width=2,\n",
    "#     input_mantissa_bit_width=1,\n",
    "#     weight_exponent_bit_width=4,\n",
    "#     weight_mantissa_bit_width=3,\n",
    "# )\n",
    "\n",
    "# ---- Quantization method ----\n",
    "\n",
    "device = (\n",
    "    \"xpu\"\n",
    "    if torch.xpu.is_available()  # For the only person who has an Intel GPU\n",
    "    else \"cuda\"\n",
    "    if torch.cuda.is_available()\n",
    "    else \"cpu\"\n",
    ")\n",
    "\n",
    "model = model.to(device)\n",
    "criterion = nn.CrossEntropyLoss()\n",
    "optimizer = torch.optim.SGD(model.parameters(), lr=learning_rate, momentum=momentum)"
   ]
  },
  {
   "cell_type": "code",
   "execution_count": 3,
   "id": "b6629564",
   "metadata": {},
   "outputs": [
    {
     "name": "stdout",
     "output_type": "stream",
     "text": [
      "Merged 12 local datasets into global loaders.\n",
      "  Training samples: 652160\n",
      "  Test samples: 163040\n"
     ]
    }
   ],
   "source": [
    "train_loader, test_loader = get_global_smartpixel_dataloaders(\n",
    "    DATASET_PATH, pin_memory=True, pin_memory_device=device\n",
    ")"
   ]
  },
  {
   "cell_type": "code",
   "execution_count": 4,
   "id": "7a7102a2",
   "metadata": {},
   "outputs": [
    {
     "name": "stdout",
     "output_type": "stream",
     "text": [
      "Epoch: 0\n"
     ]
    },
    {
     "data": {
      "application/vnd.jupyter.widget-view+json": {
       "model_id": "67bc1eae696d432cbbb88a7c8be736bb",
       "version_major": 2,
       "version_minor": 0
      },
      "text/plain": [
       "  0%|          | 0/10190 [00:00<?, ?it/s]"
      ]
     },
     "metadata": {},
     "output_type": "display_data"
    },
    {
     "name": "stderr",
     "output_type": "stream",
     "text": [
      "/home/z.ling.865/smartpixel-brevitas/venv/lib/python3.10/site-packages/torch/_tensor.py:1645: UserWarning: Named tensors and all their associated APIs are an experimental feature and subject to change. Please do not use them for anything important until they are released as stable. (Triggered internally at /pytorch/c10/core/TensorImpl.h:1939.)\n",
      "  return super().rename(names)\n"
     ]
    },
    {
     "data": {
      "application/vnd.jupyter.widget-view+json": {
       "model_id": "1527fbbd921d4204b154d3b7c12f899e",
       "version_major": 2,
       "version_minor": 0
      },
      "text/plain": [
       "  0%|          | 0/160 [00:00<?, ?it/s]"
      ]
     },
     "metadata": {},
     "output_type": "display_data"
    },
    {
     "name": "stdout",
     "output_type": "stream",
     "text": [
      "Epoch: 1\n"
     ]
    },
    {
     "data": {
      "application/vnd.jupyter.widget-view+json": {
       "model_id": "46a7dae1c2bc47f28881eb24084325a0",
       "version_major": 2,
       "version_minor": 0
      },
      "text/plain": [
       "  0%|          | 0/10190 [00:00<?, ?it/s]"
      ]
     },
     "metadata": {},
     "output_type": "display_data"
    },
    {
     "data": {
      "application/vnd.jupyter.widget-view+json": {
       "model_id": "1506edfa7e1f4743863ea6cd47490a96",
       "version_major": 2,
       "version_minor": 0
      },
      "text/plain": [
       "  0%|          | 0/160 [00:00<?, ?it/s]"
      ]
     },
     "metadata": {},
     "output_type": "display_data"
    },
    {
     "name": "stdout",
     "output_type": "stream",
     "text": [
      "Epoch: 2\n"
     ]
    },
    {
     "data": {
      "application/vnd.jupyter.widget-view+json": {
       "model_id": "3471a95271ff4d2182635040f0714759",
       "version_major": 2,
       "version_minor": 0
      },
      "text/plain": [
       "  0%|          | 0/10190 [00:00<?, ?it/s]"
      ]
     },
     "metadata": {},
     "output_type": "display_data"
    },
    {
     "data": {
      "application/vnd.jupyter.widget-view+json": {
       "model_id": "f88e53faa97f4212bd5b608395e81ed2",
       "version_major": 2,
       "version_minor": 0
      },
      "text/plain": [
       "  0%|          | 0/160 [00:00<?, ?it/s]"
      ]
     },
     "metadata": {},
     "output_type": "display_data"
    },
    {
     "name": "stdout",
     "output_type": "stream",
     "text": [
      "Epoch: 3\n"
     ]
    },
    {
     "data": {
      "application/vnd.jupyter.widget-view+json": {
       "model_id": "c1247c6e7cf240f2b9a83a3cbc3899b6",
       "version_major": 2,
       "version_minor": 0
      },
      "text/plain": [
       "  0%|          | 0/10190 [00:00<?, ?it/s]"
      ]
     },
     "metadata": {},
     "output_type": "display_data"
    },
    {
     "data": {
      "application/vnd.jupyter.widget-view+json": {
       "model_id": "516b36d1c77f41cb8aef8b8c8c0ab538",
       "version_major": 2,
       "version_minor": 0
      },
      "text/plain": [
       "  0%|          | 0/160 [00:00<?, ?it/s]"
      ]
     },
     "metadata": {},
     "output_type": "display_data"
    },
    {
     "name": "stdout",
     "output_type": "stream",
     "text": [
      "Epoch: 4\n"
     ]
    },
    {
     "data": {
      "application/vnd.jupyter.widget-view+json": {
       "model_id": "78f6b9e46ef346f0847a329a977a8d77",
       "version_major": 2,
       "version_minor": 0
      },
      "text/plain": [
       "  0%|          | 0/10190 [00:00<?, ?it/s]"
      ]
     },
     "metadata": {},
     "output_type": "display_data"
    },
    {
     "data": {
      "application/vnd.jupyter.widget-view+json": {
       "model_id": "6a24716012294611b1d7adb069434fed",
       "version_major": 2,
       "version_minor": 0
      },
      "text/plain": [
       "  0%|          | 0/160 [00:00<?, ?it/s]"
      ]
     },
     "metadata": {},
     "output_type": "display_data"
    },
    {
     "name": "stdout",
     "output_type": "stream",
     "text": [
      "Epoch: 5\n"
     ]
    },
    {
     "data": {
      "application/vnd.jupyter.widget-view+json": {
       "model_id": "e4598b5ab0224e888dd515dd8524beeb",
       "version_major": 2,
       "version_minor": 0
      },
      "text/plain": [
       "  0%|          | 0/10190 [00:00<?, ?it/s]"
      ]
     },
     "metadata": {},
     "output_type": "display_data"
    },
    {
     "data": {
      "application/vnd.jupyter.widget-view+json": {
       "model_id": "eb7258fb5b3c4e5985180bea10f89899",
       "version_major": 2,
       "version_minor": 0
      },
      "text/plain": [
       "  0%|          | 0/160 [00:00<?, ?it/s]"
      ]
     },
     "metadata": {},
     "output_type": "display_data"
    },
    {
     "name": "stdout",
     "output_type": "stream",
     "text": [
      "Epoch: 6\n"
     ]
    },
    {
     "data": {
      "application/vnd.jupyter.widget-view+json": {
       "model_id": "d405a195e4154edf9895b2b6cc67d939",
       "version_major": 2,
       "version_minor": 0
      },
      "text/plain": [
       "  0%|          | 0/10190 [00:00<?, ?it/s]"
      ]
     },
     "metadata": {},
     "output_type": "display_data"
    },
    {
     "data": {
      "application/vnd.jupyter.widget-view+json": {
       "model_id": "527894be846f4704bc08271cb1a705c7",
       "version_major": 2,
       "version_minor": 0
      },
      "text/plain": [
       "  0%|          | 0/160 [00:00<?, ?it/s]"
      ]
     },
     "metadata": {},
     "output_type": "display_data"
    },
    {
     "name": "stdout",
     "output_type": "stream",
     "text": [
      "Epoch: 7\n"
     ]
    },
    {
     "data": {
      "application/vnd.jupyter.widget-view+json": {
       "model_id": "d934a6c84cc54443856cc1df0263d4ce",
       "version_major": 2,
       "version_minor": 0
      },
      "text/plain": [
       "  0%|          | 0/10190 [00:00<?, ?it/s]"
      ]
     },
     "metadata": {},
     "output_type": "display_data"
    },
    {
     "data": {
      "application/vnd.jupyter.widget-view+json": {
       "model_id": "def26f74568b425599379b26ae6075f2",
       "version_major": 2,
       "version_minor": 0
      },
      "text/plain": [
       "  0%|          | 0/160 [00:00<?, ?it/s]"
      ]
     },
     "metadata": {},
     "output_type": "display_data"
    },
    {
     "name": "stdout",
     "output_type": "stream",
     "text": [
      "Epoch: 8\n"
     ]
    },
    {
     "data": {
      "application/vnd.jupyter.widget-view+json": {
       "model_id": "4220b64828194551a60e8ed2d2524271",
       "version_major": 2,
       "version_minor": 0
      },
      "text/plain": [
       "  0%|          | 0/10190 [00:00<?, ?it/s]"
      ]
     },
     "metadata": {},
     "output_type": "display_data"
    },
    {
     "data": {
      "application/vnd.jupyter.widget-view+json": {
       "model_id": "cc0dc30d5b2b481982c9c8e62c56525a",
       "version_major": 2,
       "version_minor": 0
      },
      "text/plain": [
       "  0%|          | 0/160 [00:00<?, ?it/s]"
      ]
     },
     "metadata": {},
     "output_type": "display_data"
    },
    {
     "name": "stdout",
     "output_type": "stream",
     "text": [
      "Epoch: 9\n"
     ]
    },
    {
     "data": {
      "application/vnd.jupyter.widget-view+json": {
       "model_id": "249d7efe177f4e9f849bd7fd8738d781",
       "version_major": 2,
       "version_minor": 0
      },
      "text/plain": [
       "  0%|          | 0/10190 [00:00<?, ?it/s]"
      ]
     },
     "metadata": {},
     "output_type": "display_data"
    },
    {
     "data": {
      "application/vnd.jupyter.widget-view+json": {
       "model_id": "ba9d1aa4713c44b7ace219e66fa3ac28",
       "version_major": 2,
       "version_minor": 0
      },
      "text/plain": [
       "  0%|          | 0/160 [00:00<?, ?it/s]"
      ]
     },
     "metadata": {},
     "output_type": "display_data"
    }
   ],
   "source": [
    "for epoch in range(10):\n",
    "    print(f\"Epoch: {epoch}\")\n",
    "    train_for_epoch(model, device, train_loader, criterion, optimizer)\n",
    "    test_model(model, device, test_loader, F.cross_entropy)"
   ]
  },
  {
   "cell_type": "code",
   "execution_count": 5,
   "id": "d671b9b7",
   "metadata": {},
   "outputs": [
    {
     "data": {
      "application/vnd.jupyter.widget-view+json": {
       "model_id": "644fe6768fa6434d91b1ebe2fa417f09",
       "version_major": 2,
       "version_minor": 0
      },
      "text/plain": [
       "  0%|          | 0/160 [00:00<?, ?it/s]"
      ]
     },
     "metadata": {},
     "output_type": "display_data"
    }
   ],
   "source": [
    "# Get all correctly classified images/inputs from test dataset\n",
    "correct_inputs, correct_targets = test_model(\n",
    "    model, device, test_loader, F.cross_entropy, return_correct=True\n",
    ")\n",
    "\n",
    "# Get quantized weights and inputs\n",
    "model_weights, model_scale = model.quant_weight()\n",
    "correct_inputs, input_scale = model.quant_input(correct_inputs)"
   ]
  },
  {
   "cell_type": "code",
   "execution_count": 6,
   "id": "8c37e082",
   "metadata": {},
   "outputs": [
    {
     "name": "stdout",
     "output_type": "stream",
     "text": [
      "Exporting single-layer model weights...\n",
      "Exported model 'small_int_quant' to ./model_outputs/small_int_quant\n"
     ]
    }
   ],
   "source": [
    "MODEL_NAME = \"small_int_quant\"  # Change me for different models\n",
    "EXPORT_PATH = os.path.join(EXPORT_PATH, MODEL_NAME)\n",
    "\n",
    "# Create output directory if it doesn't exist\n",
    "if not os.path.exists(EXPORT_PATH):\n",
    "    os.makedirs(EXPORT_PATH)\n",
    "\n",
    "# Export NumPy for compatibility with Rust\n",
    "if isinstance(model_weights, dict):\n",
    "    print(\"Exporting multi-layer quantized model weights...\")\n",
    "    for layer_name, weights in model_weights.items():\n",
    "        np.save(EXPORT_PATH + f\"{layer_name}_weights.npy\", weights.cpu().numpy())\n",
    "\n",
    "    for layer_name, scale in model_scale.items():\n",
    "        np.save(EXPORT_PATH + f\"{layer_name}_scale.npy\", scale.cpu().numpy()) \n",
    "else:\n",
    "    print(\"Exporting single-layer model weights...\")\n",
    "    np.save(EXPORT_PATH + \"/model_weights.npy\", model_weights.cpu().numpy())\n",
    "    np.save(EXPORT_PATH + \"/model_scale.npy\", model_scale.cpu().numpy())\n",
    "np.save(EXPORT_PATH + \"/correct_inputs.npy\", correct_inputs.cpu().numpy())\n",
    "np.save(EXPORT_PATH + \"/input_scale.npy\", input_scale.cpu().numpy())\n",
    "np.save(EXPORT_PATH + \"/correct_targets.npy\", correct_targets.cpu().numpy())\n",
    "\n",
    "print(f\"Exported model '{MODEL_NAME}' to {EXPORT_PATH}\")"
   ]
  },
  {
   "cell_type": "code",
   "execution_count": 7,
   "id": "7248b18c",
   "metadata": {},
   "outputs": [],
   "source": [
    "torch.save(model.state_dict(), EXPORT_PATH + \"/smartpixel_model.pt\")"
   ]
  }
 ],
 "metadata": {
  "kernelspec": {
   "display_name": "venv",
   "language": "python",
   "name": "python3"
  },
  "language_info": {
   "codemirror_mode": {
    "name": "ipython",
    "version": 3
   },
   "file_extension": ".py",
   "mimetype": "text/x-python",
   "name": "python",
   "nbconvert_exporter": "python",
   "pygments_lexer": "ipython3",
   "version": "3.10.12"
  }
 },
 "nbformat": 4,
 "nbformat_minor": 5
}
